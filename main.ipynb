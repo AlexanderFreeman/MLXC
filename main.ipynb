{
 "cells": [
  {
   "cell_type": "code",
   "execution_count": 1,
   "metadata": {},
   "outputs": [
    {
     "name": "stdout",
     "output_type": "stream",
     "text": [
      "curses is not supported on this machine (please install/reinstall curses for an optimal experience)\n"
     ]
    }
   ],
   "source": [
    "import os\n",
    "import re\n",
    "import logging\n",
    "import numpy as np\n",
    "\n",
    "import tflearn\n",
    "from tflearn.data_utils import image_preloader\n",
    "from tflearn.layers.core import input_data, dropout, fully_connected\n",
    "from tflearn.layers.conv import conv_3d, max_pool_3d, conv_3d_transpose\n",
    "from tflearn.layers.estimator import regression\n",
    "from tflearn.data_preprocessing import ImagePreprocessing\n",
    "import tensorflow as tf\n",
    "from tensorflow.contrib.keras.api.keras import backend as K\n",
    "import math\n",
    "import glob\n",
    "import matplotlib.pyplot as plt\n",
    "from mpl_toolkits.mplot3d import Axes3D\n",
    "from sklearn.utils import shuffle\n",
    "from sklearn.metrics import mean_squared_error\n",
    "from sklearn.metrics import mean_absolute_error\n",
    "from sklearn.preprocessing import FunctionTransformer\n",
    "from matplotlib.figure import figaspect\n",
    "from scipy.integrate import trapz"
   ]
  },
  {
   "cell_type": "code",
   "execution_count": 2,
   "metadata": {},
   "outputs": [],
   "source": [
    "BATCH_SIZE = 5000\n",
    "LR = 0.001"
   ]
  },
  {
   "cell_type": "code",
   "execution_count": 3,
   "metadata": {},
   "outputs": [],
   "source": [
    "def build_model(n_1, n_2, n_3):   # build computational graph\n",
    "    network = input_data(shape=(None, n_1*n_2*n_3), name = 'input')\n",
    "    network = fully_connected(network, 1000, activation = 'relu')\n",
    "    network = fully_connected(network, 500, activation = 'relu')\n",
    "    network = fully_connected(network, 1, activation = 'linear')\n",
    "\n",
    "    return regression(network, optimizer='adam',\n",
    "                      loss='mean_square', learning_rate=LR, name = 'targets')\n",
    "\n",
    "    \n",
    "def predict_gga(inp, rotate_type = 0): # input = 3D density array, output = 3D Vxc potential\n",
    "    a = inp.shape[0]\n",
    "    b = inp.shape[1]\n",
    "    c = inp.shape[2]\n",
    "    result_prediction = np.zeros((a,b,c))\n",
    "    for i in range(a):\n",
    "        for k in range(b):\n",
    "            for l in range(c):\n",
    "                indices1 = range(i-2,i+3)\n",
    "                indices2 = range(k-2,k+3)\n",
    "                indices3 = range(l-2,l+3)\n",
    "                neighbourhood = inp.take(indices1, axis = 0, mode='wrap')\n",
    "                neighbourhood = neighbourhood.take(indices2, axis = 1, mode='wrap')\n",
    "                neighbourhood = neighbourhood.take(indices3, axis = 2, mode='wrap')\n",
    "                if rotate_type == 0:\n",
    "                    neighbourhood_final = neighbourhood\n",
    "                if rotate_type == 1:\n",
    "                    neighbourhood_final = np.rot90(neighbourhood, 1, (0,1))\n",
    "                if rotate_type == 2:\n",
    "                    neighbourhood_final = np.rot90(neighbourhood, 1, (1,2))\n",
    "                result_prediction[i,k,l] = model_gga.predict(np.reshape(neighbourhood_final, (1, -1)))\n",
    "    return result_prediction\n",
    "\n",
    "def predict_lda(inp): # input = 3D density array, output = 3D Vxc potential\n",
    "    a = inp.shape[0]\n",
    "    b = inp.shape[1]\n",
    "    c = inp.shape[2]\n",
    "    result_prediction = np.zeros((a,b,c))\n",
    "    for i in range(a):\n",
    "        for k in range(b):\n",
    "            for l in range(c):\n",
    "                result_prediction[i,k,l] = model_lda.predict(np.reshape(inp[i,k,l], (-1, 1)))\n",
    "    return result_prediction"
   ]
  },
  {
   "cell_type": "code",
   "execution_count": 7,
   "metadata": {},
   "outputs": [],
   "source": [
    "tf.reset_default_graph()"
   ]
  },
  {
   "cell_type": "code",
   "execution_count": 5,
   "metadata": {},
   "outputs": [],
   "source": [
    "# Build LDA NN\n",
    "lda_network = build_model(1,1,1)\n",
    "model_lda = tflearn.DNN(lda_network, tensorboard_verbose=0)"
   ]
  },
  {
   "cell_type": "code",
   "execution_count": 6,
   "metadata": {},
   "outputs": [
    {
     "name": "stdout",
     "output_type": "stream",
     "text": [
      "INFO:tensorflow:Restoring parameters from C:\\Users\\Atty\\Desktop\\Quantum ML\\MLXC_ver4\\ML_XC-master\\octopus_NN\\lda_model\n"
     ]
    }
   ],
   "source": [
    "# Load LDA model from file\n",
    "model_lda.load('lda_model')"
   ]
  },
  {
   "cell_type": "code",
   "execution_count": 8,
   "metadata": {},
   "outputs": [],
   "source": [
    "# Build GGA NN\n",
    "gga_network = build_model(5,5,5)\n",
    "model_gga = tflearn.DNN(gga_network, tensorboard_verbose=0)"
   ]
  },
  {
   "cell_type": "code",
   "execution_count": 9,
   "metadata": {},
   "outputs": [
    {
     "name": "stdout",
     "output_type": "stream",
     "text": [
      "INFO:tensorflow:Restoring parameters from C:\\Users\\Atty\\Desktop\\Quantum ML\\MLXC_ver4\\ML_XC-master\\octopus_NN\\gga_model\n"
     ]
    }
   ],
   "source": [
    "# load GGA model from file\n",
    "model_gga.load('gga_model')"
   ]
  },
  {
   "cell_type": "code",
   "execution_count": null,
   "metadata": {},
   "outputs": [],
   "source": []
  }
 ],
 "metadata": {
  "kernelspec": {
   "display_name": "Python 3",
   "language": "python",
   "name": "python3"
  },
  "language_info": {
   "codemirror_mode": {
    "name": "ipython",
    "version": 3
   },
   "file_extension": ".py",
   "mimetype": "text/x-python",
   "name": "python",
   "nbconvert_exporter": "python",
   "pygments_lexer": "ipython3",
   "version": "3.5.6"
  }
 },
 "nbformat": 4,
 "nbformat_minor": 2
}
